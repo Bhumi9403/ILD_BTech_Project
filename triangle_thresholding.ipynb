{
 "cells": [
  {
   "cell_type": "code",
   "execution_count": 3,
   "metadata": {},
   "outputs": [],
   "source": [
    "import os\n",
    "import cv2 as cv\n",
    "import pandas as pd\n",
    "import numpy as np\n",
    "from os import listdir\n",
    "import matplotlib.pyplot as plt\n",
    "\n",
    "avg1=[]\n",
    "avg2=[]\n",
    "path=\"Y:\\\\Dataset\\\\Clarkson 2015\\\\2015-20180801T100551Z-001\\\\2015\\\\Iris\\\\LivDet-Iris-2015-Clarkson-Training\\\\LivDet-Iris-2015-Clarkson-Training\\\\LivDet2015-LG-Printed-Training\"\n",
    "for filename in os.listdir(path):\n",
    "    if(filename.endswith(\".bmp\")):\n",
    "        img=cv.imread(os.path.join(path,filename),cv.IMREAD_GRAYSCALE)\n",
    "        otsu_threshold, images_result = cv.threshold(img, 0, 255, cv.THRESH_BINARY + cv.THRESH_TOZERO)\n",
    "        original_image = img.ravel()\n",
    "        otsu_image = images_result.ravel()\n",
    "        lower_half = []\n",
    "        upper_half = []\n",
    "        thresh = otsu_threshold\n",
    "\n",
    "        for x in original_image:\n",
    "            if(x >= thresh):\n",
    "                upper_half.append(x)\n",
    "            else:\n",
    "                lower_half.append(x)\n",
    "    \n",
    "        otsu_upper_avg = np.mean(upper_half)\n",
    "        otsu_lower_avg = np.mean(lower_half)\n",
    "\n",
    "        avg1.append(otsu_upper_avg)\n",
    "        avg2.append(otsu_lower_avg)\n",
    "\n",
    "data=pd.DataFrame({\"Upper Avg\":avg1,\"Lower Avg\":avg2})\n",
    "data.to_excel(r\"C:\\\\Users\\\\Yash\\\\Desktop\\\\Clarkson results\\\\tozero_printed.xlsx\", sheet_name= 'Sheet1', index = False)\n",
    "\n",
    "cv.waitKey()\n",
    "cv.destroyAllWindows()"
   ]
  },
  {
   "cell_type": "code",
   "execution_count": null,
   "metadata": {},
   "outputs": [],
   "source": []
  }
 ],
 "metadata": {
  "kernelspec": {
   "display_name": "Python 3",
   "language": "python",
   "name": "python3"
  },
  "language_info": {
   "codemirror_mode": {
    "name": "ipython",
    "version": 3
   },
   "file_extension": ".py",
   "mimetype": "text/x-python",
   "name": "python",
   "nbconvert_exporter": "python",
   "pygments_lexer": "ipython3",
   "version": "3.8.3"
  }
 },
 "nbformat": 4,
 "nbformat_minor": 4
}
